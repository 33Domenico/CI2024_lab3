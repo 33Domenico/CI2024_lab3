{
 "cells": [
  {
   "cell_type": "code",
   "execution_count": 81,
   "metadata": {},
   "outputs": [],
   "source": [
    "import numpy as np\n",
    "import heapq\n",
    "from collections import namedtuple\n",
    "from random import choice\n",
    "from icecream import ic\n",
    "import itertools\n",
    "import time"
   ]
  },
  {
   "cell_type": "code",
   "execution_count": 82,
   "metadata": {},
   "outputs": [],
   "source": [
    "PUZZLE_DIM = 7\n",
    "Action = namedtuple('Action', ['pos1', 'pos2'])"
   ]
  },
  {
   "cell_type": "code",
   "execution_count": 83,
   "metadata": {},
   "outputs": [],
   "source": [
    "def available_actions(state: np.ndarray) -> list[Action]:\n",
    "    # Find the position of zero (empty space)\n",
    "    x, y = [int(_[0]) for _ in np.where(state == 0)]\n",
    "    actions = []\n",
    "    \n",
    "    # Optimisation: use a list of directions instead of separate ifs\n",
    "    directions = [\n",
    "        (-1, 0),  # su\n",
    "        (1, 0),   # giù\n",
    "        (0, -1),  # sinistra\n",
    "        (0, 1)    # destra\n",
    "    ]\n",
    "    \n",
    "    for dx, dy in directions:\n",
    "        new_x, new_y = x + dx, y + dy\n",
    "        if 0 <= new_x < PUZZLE_DIM and 0 <= new_y < PUZZLE_DIM:\n",
    "            actions.append(Action((x, y), (new_x, new_y)))\n",
    "            \n",
    "    return actions\n",
    "\n",
    "def do_action(state: np.ndarray, act: Action) -> np.ndarray:\n",
    "    new_state = state.copy()\n",
    "    new_state[act.pos1], new_state[act.pos2] = new_state[act.pos2], new_state[act.pos1]\n",
    "    return new_state"
   ]
  },
  {
   "cell_type": "code",
   "execution_count": 84,
   "metadata": {},
   "outputs": [],
   "source": [
    "def heuristic(state: np.ndarray)-> int:\n",
    "    # Manhattan distance for each puzzle piece\n",
    "    distance=0\n",
    "    goal_state=np.array([i for i in range(1,PUZZLE_DIM**2)]+[0]).reshape((PUZZLE_DIM,PUZZLE_DIM)) #values in ascending order, with 0 in the last position\n",
    "    target_positions = {\n",
    "        value: divmod(value-1, PUZZLE_DIM) \n",
    "        for value in range(1, PUZZLE_DIM**2)\n",
    "    }\n",
    "    \n",
    "    for x in range(PUZZLE_DIM):\n",
    "        for y in range(PUZZLE_DIM):\n",
    "            value = state[x, y]\n",
    "            if value != 0:  # ignore empty space\n",
    "                target_x, target_y = target_positions[value]\n",
    "                distance += abs(x - target_x) + abs(y - target_y)\n",
    "                \n",
    "    return distance"
   ]
  },
  {
   "cell_type": "code",
   "execution_count": 85,
   "metadata": {},
   "outputs": [],
   "source": [
    "def a_star(initial_state: np.ndarray) -> list[Action]:\n",
    "    open_set = []\n",
    "    counter = itertools.count()  # Counter for differentiating states in the heap\n",
    "    heapq.heappush(open_set, (0, next(counter), initial_state, []))  # (priorità, conteggio, stato, percorso)\n",
    "    visited = set()\n",
    "    num_tot_action=0\n",
    "    while open_set:\n",
    "        cost, _, state, path = heapq.heappop(open_set)\n",
    "        num_tot_action+=1\n",
    "        # Check if we have reached the target status\n",
    "        if np.array_equal(state, np.array([i for i in range(1, PUZZLE_DIM**2)] + [0]).reshape((PUZZLE_DIM, PUZZLE_DIM))):\n",
    "            return path,state,num_tot_action\n",
    "        \n",
    "        visited.add(state.tobytes())\n",
    "        \n",
    "        # Generate neighbouring states\n",
    "        for act in available_actions(state):\n",
    "            new_state = do_action(state, act)\n",
    "            if new_state.tobytes() not in visited:\n",
    "                new_cost = len(path) + 1 + heuristic(new_state)\n",
    "                heapq.heappush(open_set, (new_cost, next(counter), new_state, path + [act]))\n",
    "    \n",
    "    return None"
   ]
  },
  {
   "cell_type": "code",
   "execution_count": 86,
   "metadata": {},
   "outputs": [],
   "source": [
    "def generate_puzzle(num_moves=50):\n",
    "    state = np.array([i for i in range(1, PUZZLE_DIM**2)] + [0]).reshape((PUZZLE_DIM, PUZZLE_DIM))\n",
    "    \n",
    "    for _ in range(num_moves):\n",
    "        acts = available_actions(state)\n",
    "        state = do_action(state, choice(acts))\n",
    "    \n",
    "    return state"
   ]
  },
  {
   "cell_type": "code",
   "execution_count": 87,
   "metadata": {},
   "outputs": [
    {
     "name": "stderr",
     "output_type": "stream",
     "text": [
      "ic| state: array([[ 1,  2,  3,  4,  5,  6,  7],\n",
      "                  [ 8,  9, 10, 11, 12, 13, 14],\n",
      "                  [15, 16, 17, 18, 19, 20, 21],\n",
      "                  [22, 23, 24, 25, 26, 27, 28],\n",
      "                  [30, 31, 32, 36, 40, 47, 42],\n",
      "                  [29, 44, 39, 37, 41, 33, 34],\n",
      "                  [43, 45,  0, 38, 46, 48, 35]])\n"
     ]
    }
   ],
   "source": [
    "state = generate_puzzle(100)\n",
    "ic(state)\n",
    "None"
   ]
  },
  {
   "cell_type": "code",
   "execution_count": 88,
   "metadata": {},
   "outputs": [
    {
     "name": "stdout",
     "output_type": "stream",
     "text": [
      "\n",
      "Solution found in 12.63 seconds!\n",
      "Solution found: [Action(pos1=(6, 2), pos2=(5, 2)), Action(pos1=(5, 2), pos2=(5, 3)), Action(pos1=(5, 3), pos2=(4, 3)), Action(pos1=(4, 3), pos2=(4, 4)), Action(pos1=(4, 4), pos2=(4, 5)), Action(pos1=(4, 5), pos2=(5, 5)), Action(pos1=(5, 5), pos2=(5, 4)), Action(pos1=(5, 4), pos2=(4, 4)), Action(pos1=(4, 4), pos2=(4, 3)), Action(pos1=(4, 3), pos2=(4, 2)), Action(pos1=(4, 2), pos2=(5, 2)), Action(pos1=(5, 2), pos2=(5, 3)), Action(pos1=(5, 3), pos2=(6, 3)), Action(pos1=(6, 3), pos2=(6, 2)), Action(pos1=(6, 2), pos2=(6, 1)), Action(pos1=(6, 1), pos2=(5, 1)), Action(pos1=(5, 1), pos2=(5, 2)), Action(pos1=(5, 2), pos2=(4, 2)), Action(pos1=(4, 2), pos2=(4, 1)), Action(pos1=(4, 1), pos2=(4, 0)), Action(pos1=(4, 0), pos2=(5, 0)), Action(pos1=(5, 0), pos2=(5, 1)), Action(pos1=(5, 1), pos2=(5, 2)), Action(pos1=(5, 2), pos2=(5, 3)), Action(pos1=(5, 3), pos2=(6, 3)), Action(pos1=(6, 3), pos2=(6, 4)), Action(pos1=(6, 4), pos2=(5, 4)), Action(pos1=(5, 4), pos2=(4, 4)), Action(pos1=(4, 4), pos2=(4, 5)), Action(pos1=(4, 5), pos2=(4, 6)), Action(pos1=(4, 6), pos2=(5, 6)), Action(pos1=(5, 6), pos2=(6, 6)), Action(pos1=(6, 6), pos2=(6, 5)), Action(pos1=(6, 5), pos2=(5, 5)), Action(pos1=(5, 5), pos2=(4, 5)), Action(pos1=(4, 5), pos2=(4, 6)), Action(pos1=(4, 6), pos2=(5, 6)), Action(pos1=(5, 6), pos2=(5, 5)), Action(pos1=(5, 5), pos2=(6, 5)), Action(pos1=(6, 5), pos2=(6, 6))]\n",
      "Number of moves(Quality): 40\n",
      "Solution: [[ 1  2  3  4  5  6  7]\n",
      " [ 8  9 10 11 12 13 14]\n",
      " [15 16 17 18 19 20 21]\n",
      " [22 23 24 25 26 27 28]\n",
      " [29 30 31 32 33 34 35]\n",
      " [36 37 38 39 40 41 42]\n",
      " [43 44 45 46 47 48  0]]\n",
      "Cost: 188438\n"
     ]
    }
   ],
   "source": [
    "start_time = time.time()\n",
    "solution = a_star(state)\n",
    "end_time  = time.time()\n",
    "\n",
    "if solution:\n",
    "    print(f\"\\nSolution found in {end_time - start_time:.2f} seconds!\")\n",
    "    print(\"Solution found:\", solution[0])\n",
    "    print(\"Number of moves(Quality):\", len(solution[0]))\n",
    "    print(\"Solution:\",solution[1])\n",
    "    print(\"Cost:\", solution[2])\n",
    "else:\n",
    "    print(\"Solution not found.\")"
   ]
  }
 ],
 "metadata": {
  "kernelspec": {
   "display_name": ".venv",
   "language": "python",
   "name": "python3"
  },
  "language_info": {
   "codemirror_mode": {
    "name": "ipython",
    "version": 3
   },
   "file_extension": ".py",
   "mimetype": "text/x-python",
   "name": "python",
   "nbconvert_exporter": "python",
   "pygments_lexer": "ipython3",
   "version": "3.12.4"
  }
 },
 "nbformat": 4,
 "nbformat_minor": 2
}
