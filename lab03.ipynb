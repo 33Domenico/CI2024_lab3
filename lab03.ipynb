{
 "cells": [
  {
   "cell_type": "code",
   "execution_count": 17,
   "metadata": {},
   "outputs": [],
   "source": [
    "import numpy as np\n",
    "from collections import namedtuple\n",
    "import heapq\n",
    "import itertools\n",
    "from random import choice\n",
    "import time"
   ]
  },
  {
   "cell_type": "code",
   "execution_count": 18,
   "metadata": {},
   "outputs": [],
   "source": [
    "PUZZLE_DIM = 9\n",
    "Action = namedtuple('Action', ['pos1', 'pos2'])\n",
    "\n",
    "# Pre-calculates target positions for heuristics\n",
    "TARGET_POSITIONS = {\n",
    "    value: divmod(value-1, PUZZLE_DIM) \n",
    "    for value in range(1, PUZZLE_DIM**2)\n",
    "}"
   ]
  },
  {
   "cell_type": "code",
   "execution_count": 19,
   "metadata": {},
   "outputs": [],
   "source": [
    "def available_actions(state: np.ndarray)->list[Action]:\n",
    "    #position of 0\n",
    "    x,y=[int(_[0]) for _ in np.where(state== 0)]\n",
    "    actions=[]\n",
    "    #list of possible directions\n",
    "    for dx,dy in [(-1, 0), (1, 0), (0, -1), (0, 1)]:\n",
    "        new_x, new_y= x + dx, y + dy\n",
    "        if 0 <= new_x < PUZZLE_DIM and 0 <= new_y < PUZZLE_DIM:\n",
    "            actions.append(Action((x,y),(new_x,new_y)))\n",
    "    return actions        \n",
    "\n",
    "def do_action(state: np.ndarray, act: Action)-> np.ndarray:\n",
    "    new_state=state.copy()\n",
    "    new_state[act.pos1], new_state[act.pos2]=new_state[act.pos2],new_state[act.pos1]\n",
    "    return new_state"
   ]
  },
  {
   "cell_type": "code",
   "execution_count": 20,
   "metadata": {},
   "outputs": [],
   "source": [
    "def heuristic(state: np.ndarray)->int:\n",
    "    \"\"\" \n",
    "  Advanced heuristics combining:\n",
    "    1. Manhattan distance\n",
    "    2. Linear conflicts (rows and columns)\n",
    "    3. Corner tiles detection\n",
    "    4. Last moves detection\n",
    "    \"\"\"\n",
    "    distance=0\n",
    "    row_conflicts = 0\n",
    "    col_conflicts = 0\n",
    "    #Calculating distance to Manhattan\n",
    "    for x in range(PUZZLE_DIM):\n",
    "        for y in range(PUZZLE_DIM):\n",
    "            value=state[x,y]\n",
    "            if value != 0:\n",
    "                target_x,target_y=TARGET_POSITIONS[value]\n",
    "                distance += abs(x-target_x) + abs(y-target_y)\n",
    "\n",
    "    # Linear conflicts\n",
    "    \n",
    "    # Rows check\n",
    "    for row in range(PUZZLE_DIM):\n",
    "        for i in range(PUZZLE_DIM):\n",
    "            tile_i=state[row,i]\n",
    "            if tile_i== 0:\n",
    "                continue\n",
    "            traget_row_i,_=TARGET_POSITIONS[tile_i]\n",
    "            # Check if the tile is in the correct row\n",
    "            if traget_row_i == row:\n",
    "                for j in range(i+1,PUZZLE_DIM):\n",
    "                    tile_j=state[row,j]\n",
    "                    if tile_j != 0 and TARGET_POSITIONS[tile_j][0]== row and tile_i > tile_j:\n",
    "                        row_conflicts+=2  # Add penalty for linear conflict\n",
    "    # Column check\n",
    "    for col in range(PUZZLE_DIM):\n",
    "        for i in range(PUZZLE_DIM-1):\n",
    "            tile_i = state[i, col]\n",
    "            if tile_i == 0:\n",
    "                continue\n",
    "            target_row_i, target_col_i = TARGET_POSITIONS[tile_i]\n",
    "            \n",
    "            if target_col_i == col:\n",
    "                for j in range(i + 1, PUZZLE_DIM):\n",
    "                    tile_j = state[j, col]\n",
    "                    if tile_j != 0:\n",
    "                        target_row_j, target_col_j = TARGET_POSITIONS[tile_j]\n",
    "                        if target_col_j == col and target_row_i > target_row_j:\n",
    "                            col_conflicts += 2\n",
    "    # Corner tiles detection\n",
    "    corner_penalty=0\n",
    "    corners = [(0,0), (0,PUZZLE_DIM-1), (PUZZLE_DIM-1,0), (PUZZLE_DIM-1,PUZZLE_DIM-1)]\n",
    "    for x,y in corners:\n",
    "        value=state[x,y]\n",
    "        if value !=0:\n",
    "            target_x,target_y=TARGET_POSITIONS[value]\n",
    "            if(x,y) != (target_x,target_y) and (target_x,target_y) in corners:\n",
    "                corner_penalty+=2\n",
    "    \n",
    "    # Last moves pattern detection\n",
    "    last_moves_penalty = 0\n",
    "    if(PUZZLE_DIM>=4):\n",
    "        # Checking whether the last two tiles of the final row/column are interchanged\n",
    "        if state[PUZZLE_DIM-1, PUZZLE_DIM-2] == PUZZLE_DIM**2 - 1 and \\\n",
    "            state[PUZZLE_DIM-1, PUZZLE_DIM-1] == PUZZLE_DIM**2 - 2:\n",
    "            last_moves_penalty += 6\n",
    "            \n",
    "        if state[PUZZLE_DIM-2, PUZZLE_DIM-1] == PUZZLE_DIM**2 - 1 and \\\n",
    "            state[PUZZLE_DIM-1, PUZZLE_DIM-1] == PUZZLE_DIM**2 - 3:\n",
    "                last_moves_penalty += 6\n",
    "\n",
    "    return distance+row_conflicts+col_conflicts+corner_penalty+last_moves_penalty\n",
    "\n"
   ]
  },
  {
   "cell_type": "code",
   "execution_count": null,
   "metadata": {},
   "outputs": [],
   "source": [
    "def a_star(initial_state: np.ndarray):\n",
    "    open_set = []\n",
    "    counter = itertools.count()\n",
    "    goal_state = np.array([i for i in range(1, PUZZLE_DIM**2)] + [0]).reshape((PUZZLE_DIM, PUZZLE_DIM))\n",
    "    \n",
    "    # Set for visited states \n",
    "    visited = set()\n",
    "    \n",
    "    # Initial estimation of heuristics \n",
    "    initial_h = heuristic(initial_state)\n",
    "    heapq.heappush(open_set, (initial_h, next(counter), initial_state, []))\n",
    "    \n",
    "    nodes_expanded = 0\n",
    "    \n",
    "    while open_set:\n",
    "        f_score, _, state, path = heapq.heappop(open_set)\n",
    "        nodes_expanded += 1\n",
    "        \n",
    "        if np.array_equal(state, goal_state):\n",
    "            print(f\"Cost: {nodes_expanded}\")\n",
    "            return path,state\n",
    "        \n",
    "       \n",
    "        state_key = str(state.flatten().tolist())\n",
    "        if state_key in visited:\n",
    "            continue\n",
    "            \n",
    "        visited.add(state_key)\n",
    "        \n",
    "        actions = available_actions(state)\n",
    "        for act in actions:\n",
    "            new_state = do_action(state, act)\n",
    "            new_state_key = str(new_state.flatten().tolist())\n",
    "            \n",
    "            if new_state_key not in visited:\n",
    "                g_score = len(path) + 1\n",
    "                h_score = heuristic(new_state)\n",
    "                f_score = g_score + h_score\n",
    "                heapq.heappush(open_set, (f_score, next(counter), new_state, path + [act]))\n",
    "    \n",
    "    return None\n"
   ]
  },
  {
   "cell_type": "code",
   "execution_count": 22,
   "metadata": {},
   "outputs": [],
   "source": [
    "def generate_puzzle(num_moves=50):\n",
    "    state = np.array([i for i in range(1, PUZZLE_DIM**2)] + [0]).reshape((PUZZLE_DIM, PUZZLE_DIM))\n",
    "    \n",
    "    for _ in range(num_moves):\n",
    "        acts = available_actions(state)\n",
    "        state = do_action(state, choice(acts))\n",
    "    \n",
    "    return state"
   ]
  },
  {
   "cell_type": "code",
   "execution_count": 23,
   "metadata": {},
   "outputs": [
    {
     "name": "stdout",
     "output_type": "stream",
     "text": [
      "Iinitial iniziale:\n",
      "[[ 1  2  0 12  5 16  6  8  9]\n",
      " [10 11  4 21 14 13 17 18 27]\n",
      " [19 20 22  3 23  7 25 35 26]\n",
      " [28 29 38 31 15 24 33 43 36]\n",
      " [37 39 30 40 32 42 34 45 54]\n",
      " [46 47 48 58 41 50 51 44 63]\n",
      " [55 56 57 59 49 60 52 61 71]\n",
      " [64 65 66 67 68 69 79 53 62]\n",
      " [73 74 75 76 77 78 80 70 72]]\n"
     ]
    }
   ],
   "source": [
    "initial_state = generate_puzzle(num_moves=160)\n",
    "print(\"Iinitial iniziale:\")\n",
    "print(initial_state)"
   ]
  },
  {
   "cell_type": "code",
   "execution_count": 24,
   "metadata": {},
   "outputs": [
    {
     "name": "stdout",
     "output_type": "stream",
     "text": [
      "Cost: 274068\n",
      "\n",
      "Solution found in 145.75 seconds!\n",
      "Solution found: [Action(pos1=(0, 2), pos2=(1, 2)), Action(pos1=(1, 2), pos2=(1, 3)), Action(pos1=(1, 3), pos2=(2, 3)), Action(pos1=(2, 3), pos2=(2, 4)), Action(pos1=(2, 4), pos2=(1, 4)), Action(pos1=(1, 4), pos2=(1, 5)), Action(pos1=(1, 5), pos2=(2, 5)), Action(pos1=(2, 5), pos2=(2, 4)), Action(pos1=(2, 4), pos2=(3, 4)), Action(pos1=(3, 4), pos2=(4, 4)), Action(pos1=(4, 4), pos2=(5, 4)), Action(pos1=(5, 4), pos2=(6, 4)), Action(pos1=(6, 4), pos2=(6, 3)), Action(pos1=(6, 3), pos2=(5, 3)), Action(pos1=(5, 3), pos2=(5, 4)), Action(pos1=(5, 4), pos2=(5, 5)), Action(pos1=(5, 5), pos2=(5, 6)), Action(pos1=(5, 6), pos2=(6, 6)), Action(pos1=(6, 6), pos2=(6, 7)), Action(pos1=(6, 7), pos2=(7, 7)), Action(pos1=(7, 7), pos2=(8, 7)), Action(pos1=(8, 7), pos2=(8, 6)), Action(pos1=(8, 6), pos2=(7, 6)), Action(pos1=(7, 6), pos2=(7, 7)), Action(pos1=(7, 7), pos2=(7, 8)), Action(pos1=(7, 8), pos2=(6, 8)), Action(pos1=(6, 8), pos2=(5, 8)), Action(pos1=(5, 8), pos2=(4, 8)), Action(pos1=(4, 8), pos2=(4, 7)), Action(pos1=(4, 7), pos2=(3, 7)), Action(pos1=(3, 7), pos2=(2, 7)), Action(pos1=(2, 7), pos2=(2, 8)), Action(pos1=(2, 8), pos2=(1, 8)), Action(pos1=(1, 8), pos2=(1, 7)), Action(pos1=(1, 7), pos2=(1, 6)), Action(pos1=(1, 6), pos2=(1, 5)), Action(pos1=(1, 5), pos2=(0, 5)), Action(pos1=(0, 5), pos2=(0, 6)), Action(pos1=(0, 6), pos2=(1, 6)), Action(pos1=(1, 6), pos2=(1, 5)), Action(pos1=(1, 5), pos2=(2, 5)), Action(pos1=(2, 5), pos2=(2, 4)), Action(pos1=(2, 4), pos2=(2, 3)), Action(pos1=(2, 3), pos2=(2, 2)), Action(pos1=(2, 2), pos2=(2, 1)), Action(pos1=(2, 1), pos2=(3, 1)), Action(pos1=(3, 1), pos2=(3, 2)), Action(pos1=(3, 2), pos2=(4, 2)), Action(pos1=(4, 2), pos2=(4, 1)), Action(pos1=(4, 1), pos2=(3, 1)), Action(pos1=(3, 1), pos2=(2, 1)), Action(pos1=(2, 1), pos2=(2, 2)), Action(pos1=(2, 2), pos2=(1, 2)), Action(pos1=(1, 2), pos2=(1, 3)), Action(pos1=(1, 3), pos2=(0, 3)), Action(pos1=(0, 3), pos2=(0, 2)), Action(pos1=(0, 2), pos2=(1, 2)), Action(pos1=(1, 2), pos2=(1, 3)), Action(pos1=(1, 3), pos2=(1, 4)), Action(pos1=(1, 4), pos2=(1, 5)), Action(pos1=(1, 5), pos2=(2, 5)), Action(pos1=(2, 5), pos2=(3, 5)), Action(pos1=(3, 5), pos2=(3, 6)), Action(pos1=(3, 6), pos2=(4, 6)), Action(pos1=(4, 6), pos2=(4, 7)), Action(pos1=(4, 7), pos2=(5, 7)), Action(pos1=(5, 7), pos2=(6, 7)), Action(pos1=(6, 7), pos2=(7, 7)), Action(pos1=(7, 7), pos2=(7, 8)), Action(pos1=(7, 8), pos2=(8, 8))]\n",
      "Number of moves(Quality): 70\n",
      "Solution:\n",
      " [[ 1  2  3  4  5  6  7  8  9]\n",
      " [10 11 12 13 14 15 16 17 18]\n",
      " [19 20 21 22 23 24 25 26 27]\n",
      " [28 29 30 31 32 33 34 35 36]\n",
      " [37 38 39 40 41 42 43 44 45]\n",
      " [46 47 48 49 50 51 52 53 54]\n",
      " [55 56 57 58 59 60 61 62 63]\n",
      " [64 65 66 67 68 69 70 71 72]\n",
      " [73 74 75 76 77 78 79 80  0]]\n"
     ]
    }
   ],
   "source": [
    "start_time = time.time()\n",
    "solution = a_star(initial_state)\n",
    "end_time = time.time()\n",
    "if solution:\n",
    "    print(f\"\\nSolution found in {end_time - start_time:.2f} seconds!\")\n",
    "    print(\"Solution found:\", solution[0])\n",
    "    print(\"Number of moves(Quality):\", len(solution[0]))\n",
    "    print(\"Solution:\\n\",solution[1])\n",
    "else:\n",
    "    print(\"Solution not found.\")"
   ]
  },
  {
   "cell_type": "markdown",
   "metadata": {},
   "source": [
    "This code implements an A* algorithm to solve the puzzle of n boxes. The heuristics used to estimate the distance to the optimal solution include several metrics:\n",
    "\n",
    "- **Manhattan distance**: calculates the sum of the distances (in terms of vertical and horizontal movements) of each tile from its target position. This is a common and effective measure for sliding puzzles.\n",
    "\n",
    "- **Linear conflicts**: identifies situations where two or more tiles in the same row or column are in the correct row/column but in the wrong sequence. Adds penalties of 2 units for each conflict detected, improving the accuracy of heuristics.\n",
    "\n",
    "- **Corner penalty**: checks whether a tile placed in a corner is out of place but its target is also in a corner. This check helps prevent the algorithm from underestimating the cost of complex moves.\n",
    "\n",
    "- **Penalty for final moves**: detects whether the last two tiles (e.g., those in the final row) are switched relative to their target position, adding a penalty to correct these errors.\n",
    "\n",
    "This combination of metrics makes the heuristics permissible and more informed, allowing the A* to explore fewer unnecessary nodes and converge more quickly to the solution."
   ]
  }
 ],
 "metadata": {
  "kernelspec": {
   "display_name": ".venv",
   "language": "python",
   "name": "python3"
  },
  "language_info": {
   "codemirror_mode": {
    "name": "ipython",
    "version": 3
   },
   "file_extension": ".py",
   "mimetype": "text/x-python",
   "name": "python",
   "nbconvert_exporter": "python",
   "pygments_lexer": "ipython3",
   "version": "3.12.4"
  }
 },
 "nbformat": 4,
 "nbformat_minor": 2
}
